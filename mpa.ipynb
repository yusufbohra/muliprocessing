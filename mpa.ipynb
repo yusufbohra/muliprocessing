{
 "cells": [
  {
   "cell_type": "code",
   "execution_count": 1,
   "id": "037e01cd-dabb-43cf-9604-8b61ff1770f4",
   "metadata": {},
   "outputs": [
    {
     "data": {
      "text/plain": [
       "'Multiprocessing in Python refers to the ability of the Python programming language to execute multiple processes or tasks concurrently, utilizing multiple CPUs or CPU cores. \\nUtilizing multiple CPUs: By using multiprocessing, you can take advantage of the multiple CPUs or CPU cores available in your system. Each process runs independently on a separate core, enabling true parallel execution.\\n\\nIncreased performance: Multiprocessing can significantly improve the performance of certain types of applications that are CPU-intensive or involve computationally expensive tasks. By distributing the workload across multiple processes, the overall execution time can be reduced, leading to faster completion.\\n\\nOvercoming the Global Interpreter Lock (GIL): Python has a Global Interpreter Lock, which allows only one thread to execute Python bytecode at a time. This can limit the potential for parallel execution within a single Python process. However, multiprocessing overcomes this limitation by creating separate processes with their own interpreter instances, effectively bypassing the GIL.'"
      ]
     },
     "execution_count": 1,
     "metadata": {},
     "output_type": "execute_result"
    }
   ],
   "source": [
    "#que 1\n",
    "\"\"\"Multiprocessing in Python refers to the ability of the Python programming language to execute multiple processes or tasks concurrently, utilizing multiple CPUs or CPU cores. \n",
    "Utilizing multiple CPUs: By using multiprocessing, you can take advantage of the multiple CPUs or CPU cores available in your system. Each process runs independently on a separate core, enabling true parallel execution.\n",
    "\n",
    "Increased performance: Multiprocessing can significantly improve the performance of certain types of applications that are CPU-intensive or involve computationally expensive tasks. By distributing the workload across multiple processes, the overall execution time can be reduced, leading to faster completion.\n",
    "\n",
    "Overcoming the Global Interpreter Lock (GIL): Python has a Global Interpreter Lock, which allows only one thread to execute Python bytecode at a time. This can limit the potential for parallel execution within a single Python process. However, multiprocessing overcomes this limitation by creating separate processes with their own interpreter instances, effectively bypassing the GIL.\"\"\""
   ]
  },
  {
   "cell_type": "code",
   "execution_count": 2,
   "id": "53fb2a88-559c-4f62-a9f4-229500184ab5",
   "metadata": {},
   "outputs": [
    {
     "data": {
      "text/plain": [
       "'difference \\n1.exceution model\\n2.parallelism\\n3.programming complexity\\n4.use cases\\n5.data sharing'"
      ]
     },
     "execution_count": 2,
     "metadata": {},
     "output_type": "execute_result"
    }
   ],
   "source": [
    "#que2\n",
    "\"\"\"difference \n",
    "1.exceution model\n",
    "2.parallelism\n",
    "3.programming complexity\n",
    "4.use cases\n",
    "5.data sharing\"\"\""
   ]
  },
  {
   "cell_type": "code",
   "execution_count": 3,
   "id": "ab3f7e9a-3fcf-423f-ba7f-b8e3889950ac",
   "metadata": {},
   "outputs": [
    {
     "name": "stdout",
     "output_type": "stream",
     "text": [
      "Worker process executing.\n",
      "Main process executing.\n"
     ]
    }
   ],
   "source": [
    "#que3\n",
    "import multiprocessing\n",
    "\n",
    "def worker():\n",
    "    \"\"\"Function to be executed by the child process.\"\"\"\n",
    "    print(\"Worker process executing.\")\n",
    "\n",
    "if __name__ == \"__main__\":\n",
    "    # Create a multiprocessing Process object\n",
    "    process = multiprocessing.Process(target=worker)\n",
    "    \n",
    "    # Start the process\n",
    "    process.start()\n",
    "    \n",
    "    # Wait for the process to finish\n",
    "    process.join()\n",
    "    \n",
    "    print(\"Main process executing.\")\n"
   ]
  },
  {
   "cell_type": "code",
   "execution_count": 4,
   "id": "f5c26118-d2a6-4b6b-b27e-5906db9bf886",
   "metadata": {},
   "outputs": [
    {
     "data": {
      "text/plain": [
       "'a multiprocessing pool is a component provided by the multiprocessing module that allows you to create a pool of worker processes.\\nCreating a pool \\nTask distribution \\nTask execution \\nResult retrieval'"
      ]
     },
     "execution_count": 4,
     "metadata": {},
     "output_type": "execute_result"
    }
   ],
   "source": [
    "#que 4\n",
    "\"\"\"a multiprocessing pool is a component provided by the multiprocessing module that allows you to create a pool of worker processes.\n",
    "Creating a pool \n",
    "Task distribution \n",
    "Task execution \n",
    "Result retrieval\"\"\""
   ]
  },
  {
   "cell_type": "code",
   "execution_count": 5,
   "id": "7c5110aa-3a83-45b1-a2c3-da536d19e508",
   "metadata": {},
   "outputs": [
    {
     "name": "stdout",
     "output_type": "stream",
     "text": [
      "Results: [2, 4, 6, 8, 10]\n"
     ]
    }
   ],
   "source": [
    "#que 5\n",
    "import multiprocessing\n",
    "\n",
    "def worker(task):\n",
    "    \"\"\"Function to be executed by the worker processes.\"\"\"\n",
    "    result = task * 2\n",
    "    return result\n",
    "\n",
    "if __name__ == \"__main__\":\n",
    "    # Create a multiprocessing pool with 4 worker processes\n",
    "    pool = multiprocessing.Pool(processes=4)\n",
    "    \n",
    "    # List of tasks to be processed\n",
    "    tasks = [1, 2, 3, 4, 5]\n",
    "    \n",
    "    # Apply the worker function to the tasks using the pool\n",
    "    results = pool.map(worker, tasks)\n",
    "    \n",
    "    # Close the pool and wait for all processes to finish\n",
    "    pool.close()\n",
    "    pool.join()\n",
    "    \n",
    "    print(\"Results:\", results)\n"
   ]
  },
  {
   "cell_type": "code",
   "execution_count": 6,
   "id": "219e3007-00c2-4da1-9d8f-29110c5a152c",
   "metadata": {},
   "outputs": [
    {
     "name": "stdout",
     "output_type": "stream",
     "text": [
      "Process 1: Printing number 1.\n",
      "Process 2: Printing number 2.\n",
      "Process 3: Printing number 3.\n",
      "Process 4: Printing number 4.\n",
      "All processes have finished executing.\n"
     ]
    }
   ],
   "source": [
    "#que6\n",
    "import multiprocessing\n",
    "\n",
    "def print_number(number):\n",
    "    \"\"\"Function to be executed by the processes.\"\"\"\n",
    "    print(f\"Process {number}: Printing number {number}.\")\n",
    "\n",
    "if __name__ == \"__main__\":\n",
    "    processes = []\n",
    "    \n",
    "    for i in range(1, 5):\n",
    "        # Create a multiprocessing Process object for each number\n",
    "        process = multiprocessing.Process(target=print_number, args=(i,))\n",
    "        processes.append(process)\n",
    "        \n",
    "        # Start the process\n",
    "        process.start()\n",
    "        \n",
    "    # Wait for all processes to finish\n",
    "    for process in processes:\n",
    "        process.join()\n",
    "    \n",
    "    print(\"All processes have finished executing.\")\n"
   ]
  },
  {
   "cell_type": "code",
   "execution_count": null,
   "id": "836136b9-82cb-468a-9405-ede89eaa87b1",
   "metadata": {},
   "outputs": [],
   "source": []
  }
 ],
 "metadata": {
  "kernelspec": {
   "display_name": "Python 3 (ipykernel)",
   "language": "python",
   "name": "python3"
  },
  "language_info": {
   "codemirror_mode": {
    "name": "ipython",
    "version": 3
   },
   "file_extension": ".py",
   "mimetype": "text/x-python",
   "name": "python",
   "nbconvert_exporter": "python",
   "pygments_lexer": "ipython3",
   "version": "3.10.8"
  }
 },
 "nbformat": 4,
 "nbformat_minor": 5
}
